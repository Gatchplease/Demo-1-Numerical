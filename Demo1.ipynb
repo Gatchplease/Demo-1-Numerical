{
  "nbformat": 4,
  "nbformat_minor": 0,
  "metadata": {
    "colab": {
      "name": "Untitled14.ipynb",
      "provenance": [],
      "collapsed_sections": []
    },
    "kernelspec": {
      "name": "python3",
      "display_name": "Python 3"
    },
    "language_info": {
      "name": "python"
    }
  },
  "cells": [
    {
      "cell_type": "code",
      "metadata": {
        "id": "d1bLPIFkeJjV"
      },
      "source": [
        "#Intro to Numerical Methods\n",
        "##Demo 1"
      ],
      "execution_count": null,
      "outputs": []
    },
    {
      "cell_type": "code",
      "metadata": {
        "colab": {
          "base_uri": "https://localhost:8080/"
        },
        "id": "1gvGbiU2eSRj",
        "outputId": "b015d74c-29b8-4230-e474-458c9bb3d6fa"
      },
      "source": [
        "b ='Sally'\n",
        "b = int(4)\n",
        "print (b)\n",
        "\n",
        "b = float(4)\n",
        "print (b)"
      ],
      "execution_count": 1,
      "outputs": [
        {
          "output_type": "stream",
          "text": [
            "4\n",
            "4.0\n"
          ],
          "name": "stdout"
        }
      ]
    },
    {
      "cell_type": "code",
      "metadata": {
        "colab": {
          "base_uri": "https://localhost:8080/"
        },
        "id": "7HKAYTCWeUlm",
        "outputId": "69099c81-5b23-43cf-fc0f-1ba182b1e80b"
      },
      "source": [
        "x, y ,z = 'one','two','three'\n",
        "print (x,y,z)"
      ],
      "execution_count": 2,
      "outputs": [
        {
          "output_type": "stream",
          "text": [
            "one two three\n"
          ],
          "name": "stdout"
        }
      ]
    },
    {
      "cell_type": "code",
      "metadata": {
        "colab": {
          "base_uri": "https://localhost:8080/"
        },
        "id": "na-aRZk_eXVA",
        "outputId": "eb2fe8f2-7dc2-40be-f5dd-0ff141ad4af0"
      },
      "source": [
        "x = 'enjoying'\n",
        "print (\"python programming is \"+x)"
      ],
      "execution_count": 3,
      "outputs": [
        {
          "output_type": "stream",
          "text": [
            "python programming is enjoying\n"
          ],
          "name": "stdout"
        }
      ]
    },
    {
      "cell_type": "code",
      "metadata": {
        "colab": {
          "base_uri": "https://localhost:8080/"
        },
        "id": "JK70-0Y-e8PO",
        "outputId": "35337aa3-70ca-45f6-e493-68d70339e0bd"
      },
      "source": [
        "x = 5\n",
        "y = 3\n",
        "sum = x + y\n",
        "sum"
      ],
      "execution_count": 4,
      "outputs": [
        {
          "output_type": "execute_result",
          "data": {
            "text/plain": [
              "8"
            ]
          },
          "metadata": {},
          "execution_count": 4
        }
      ]
    },
    {
      "cell_type": "code",
      "metadata": {
        "colab": {
          "base_uri": "https://localhost:8080/"
        },
        "id": "qA03ECn3fAr8",
        "outputId": "e8e3b53d-e2f7-4e8d-b0c2-d9291b14c2e0"
      },
      "source": [
        "x = 'enjoying'\n",
        "y = 'python programming is '\n",
        "z = y+x\n",
        "print (z)"
      ],
      "execution_count": 5,
      "outputs": [
        {
          "output_type": "stream",
          "text": [
            "python programming is enjoying\n"
          ],
          "name": "stdout"
        }
      ]
    },
    {
      "cell_type": "code",
      "metadata": {
        "colab": {
          "base_uri": "https://localhost:8080/"
        },
        "id": "GFfrSE0kfEBb",
        "outputId": "1e4dff32-350a-4ad4-a872-ef1530edaf15"
      },
      "source": [
        "x = 5\n",
        "y = 3\n",
        "sum = x + y\n",
        "sum"
      ],
      "execution_count": 6,
      "outputs": [
        {
          "output_type": "execute_result",
          "data": {
            "text/plain": [
              "8"
            ]
          },
          "metadata": {},
          "execution_count": 6
        }
      ]
    },
    {
      "cell_type": "code",
      "metadata": {
        "colab": {
          "base_uri": "https://localhost:8080/"
        },
        "id": "yI6HKANrfHCu",
        "outputId": "9ae561e3-1787-4360-ad34-8bf225a1fa69"
      },
      "source": [
        "x = 7\n",
        "y = 3\n",
        "ans = x % y\n",
        "ans"
      ],
      "execution_count": 7,
      "outputs": [
        {
          "output_type": "execute_result",
          "data": {
            "text/plain": [
              "1"
            ]
          },
          "metadata": {},
          "execution_count": 7
        }
      ]
    }
  ]
}