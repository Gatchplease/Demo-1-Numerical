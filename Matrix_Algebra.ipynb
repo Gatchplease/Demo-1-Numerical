{
  "nbformat": 4,
  "nbformat_minor": 0,
  "metadata": {
    "colab": {
      "name": "Matrix Algebra.ipynb",
      "provenance": [],
      "authorship_tag": "ABX9TyPzBJkT+SBqS2Rw5m1agcvf",
      "include_colab_link": true
    },
    "kernelspec": {
      "name": "python3",
      "display_name": "Python 3"
    },
    "language_info": {
      "name": "python"
    }
  },
  "cells": [
    {
      "cell_type": "markdown",
      "metadata": {
        "id": "view-in-github",
        "colab_type": "text"
      },
      "source": [
        "<a href=\"https://colab.research.google.com/github/Gatchplease/Introduction-to-Numerical-Methods/blob/main/Matrix_Algebra.ipynb\" target=\"_parent\"><img src=\"https://colab.research.google.com/assets/colab-badge.svg\" alt=\"Open In Colab\"/></a>"
      ]
    },
    {
      "cell_type": "markdown",
      "metadata": {
        "id": "ZPiV4EpiY2C6"
      },
      "source": [
        "##Matrix and its Operations"
      ]
    },
    {
      "cell_type": "code",
      "metadata": {
        "id": "T2tgC7FmV2MQ",
        "colab": {
          "base_uri": "https://localhost:8080/"
        },
        "outputId": "bb79c832-0320-4324-f1ca-de231b011b60"
      },
      "source": [
        "import numpy as np\n",
        "a = np.array ([1,2,3])\n",
        "print(a)"
      ],
      "execution_count": 2,
      "outputs": [
        {
          "output_type": "stream",
          "name": "stdout",
          "text": [
            "[1 2 3]\n"
          ]
        }
      ]
    },
    {
      "cell_type": "code",
      "metadata": {
        "colab": {
          "base_uri": "https://localhost:8080/"
        },
        "id": "f12eB7OBZxEh",
        "outputId": "ba925e3a-c080-41bc-ab23-da6b47dfa0e6"
      },
      "source": [
        "b = np.array([[1,2,3,],[4,5,6,]])\n",
        "b[0,0] = 7\n",
        "print(b)\n"
      ],
      "execution_count": 19,
      "outputs": [
        {
          "output_type": "stream",
          "name": "stdout",
          "text": [
            "[[7 2 3]\n",
            " [4 5 6]]\n"
          ]
        }
      ]
    },
    {
      "cell_type": "code",
      "metadata": {
        "colab": {
          "base_uri": "https://localhost:8080/"
        },
        "id": "spdEide0bhLk",
        "outputId": "811eaca8-be5b-4335-b8e7-6a5cc1696904"
      },
      "source": [
        "c = np.array([[1,2,3,],[4,5,6,],[7,8,9]])\n",
        "print(c)"
      ],
      "execution_count": 20,
      "outputs": [
        {
          "output_type": "stream",
          "name": "stdout",
          "text": [
            "[[1 2 3]\n",
            " [4 5 6]\n",
            " [7 8 9]]\n"
          ]
        }
      ]
    },
    {
      "cell_type": "code",
      "metadata": {
        "colab": {
          "base_uri": "https://localhost:8080/"
        },
        "id": "pXYY-Y4Qb39_",
        "outputId": "86801ecf-8516-403e-adec-c4770000686d"
      },
      "source": [
        "d =np.full((2,2),4) \n",
        "print(d)"
      ],
      "execution_count": 21,
      "outputs": [
        {
          "output_type": "stream",
          "name": "stdout",
          "text": [
            "[[4 4]\n",
            " [4 4]]\n"
          ]
        }
      ]
    },
    {
      "cell_type": "code",
      "metadata": {
        "colab": {
          "base_uri": "https://localhost:8080/"
        },
        "id": "99DfciHHcKnb",
        "outputId": "aa35423f-f16c-42b2-fbfe-f6147381063a"
      },
      "source": [
        "e = np.eye(2)\n",
        "print(e)"
      ],
      "execution_count": 22,
      "outputs": [
        {
          "output_type": "stream",
          "name": "stdout",
          "text": [
            "[[1. 0.]\n",
            " [0. 1.]]\n"
          ]
        }
      ]
    },
    {
      "cell_type": "code",
      "metadata": {
        "colab": {
          "base_uri": "https://localhost:8080/"
        },
        "id": "8x7XCmfRcWop",
        "outputId": "7b956d9f-8f40-4c6d-ef40-6e4fdbf3e338"
      },
      "source": [
        "import numpy as np\n",
        "e = np.diagonal([[1,2,3],[4,5,6],[7,8,9]])\n",
        "print(e)"
      ],
      "execution_count": 23,
      "outputs": [
        {
          "output_type": "stream",
          "name": "stdout",
          "text": [
            "[1 5 9]\n"
          ]
        }
      ]
    },
    {
      "cell_type": "code",
      "metadata": {
        "colab": {
          "base_uri": "https://localhost:8080/"
        },
        "id": "xdiLLJpokFlh",
        "outputId": "751ad001-5ecb-4720-8bc5-7cf236d2bbc6"
      },
      "source": [
        "import numpy as np\n",
        "f = np.empty((0,10))\n",
        "print(f)"
      ],
      "execution_count": 24,
      "outputs": [
        {
          "output_type": "stream",
          "name": "stdout",
          "text": [
            "[]\n"
          ]
        }
      ]
    },
    {
      "cell_type": "code",
      "metadata": {
        "colab": {
          "base_uri": "https://localhost:8080/"
        },
        "id": "fWDzT_RWkQM-",
        "outputId": "9ea00fa1-bc5f-4d52-9f83-8b46ca98fcdd"
      },
      "source": [
        "import numpy as np\n",
        "g = np.zeros((2,2))\n",
        "print(g)"
      ],
      "execution_count": 25,
      "outputs": [
        {
          "output_type": "stream",
          "name": "stdout",
          "text": [
            "[[0. 0.]\n",
            " [0. 0.]]\n"
          ]
        }
      ]
    },
    {
      "cell_type": "code",
      "metadata": {
        "colab": {
          "base_uri": "https://localhost:8080/"
        },
        "id": "QIy3lEGrkaoO",
        "outputId": "c2c52060-0fec-4dbe-e51a-7ddb4df7ca60"
      },
      "source": [
        "import numpy as np\n",
        "e = np.eye(2)\n",
        "g = np.zeros((2,2))\n",
        "print(e)\n",
        "print(g)\n",
        "print(e+g)\n",
        "print(e-g)\n",
        "print(g-e)"
      ],
      "execution_count": 29,
      "outputs": [
        {
          "output_type": "stream",
          "name": "stdout",
          "text": [
            "[[1. 0.]\n",
            " [0. 1.]]\n",
            "[[0. 0.]\n",
            " [0. 0.]]\n",
            "[[1. 0.]\n",
            " [0. 1.]]\n",
            "[[1. 0.]\n",
            " [0. 1.]]\n",
            "[[-1.  0.]\n",
            " [ 0. -1.]]\n"
          ]
        }
      ]
    }
  ]
}