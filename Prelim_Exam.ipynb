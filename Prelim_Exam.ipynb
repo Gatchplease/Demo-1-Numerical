{
  "nbformat": 4,
  "nbformat_minor": 0,
  "metadata": {
    "colab": {
      "name": "Prelim Exam.ipynb",
      "provenance": [],
      "authorship_tag": "ABX9TyMWa980TW0ilvj57zddksEX",
      "include_colab_link": true
    },
    "kernelspec": {
      "name": "python3",
      "display_name": "Python 3"
    },
    "language_info": {
      "name": "python"
    }
  },
  "cells": [
    {
      "cell_type": "markdown",
      "metadata": {
        "id": "view-in-github",
        "colab_type": "text"
      },
      "source": [
        "<a href=\"https://colab.research.google.com/github/Gatchplease/Numerical-Methods/blob/main/Prelim_Exam.ipynb\" target=\"_parent\"><img src=\"https://colab.research.google.com/assets/colab-badge.svg\" alt=\"Open In Colab\"/></a>"
      ]
    },
    {
      "cell_type": "markdown",
      "metadata": {
        "id": "_oiAOVjbSbMA"
      },
      "source": [
        "## 3. Evaluate the determinant of matrix A using Pivotal Method (Note: Show your pertinent solutions) 20 points##\n"
      ]
    },
    {
      "cell_type": "code",
      "metadata": {
        "id": "XqWQ6V6hPD7h"
      },
      "source": [
        "import numpy as np"
      ],
      "execution_count": 8,
      "outputs": []
    },
    {
      "cell_type": "code",
      "metadata": {
        "colab": {
          "base_uri": "https://localhost:8080/"
        },
        "id": "L_kin8HYSiD3",
        "outputId": "c57a3a90-45e2-4318-9ac4-ebde99b06c9a"
      },
      "source": [
        "A = np.array([[1,2,3],[2,3,3],[3,4,-2]])\n",
        "print(A)\n",
        "print(np.linalg.det(A))\n",
        "print(round(np.linalg.det(A)))"
      ],
      "execution_count": 11,
      "outputs": [
        {
          "output_type": "stream",
          "name": "stdout",
          "text": [
            "[[ 1  2  3]\n",
            " [ 2  3  3]\n",
            " [ 3  4 -2]]\n",
            "5.000000000000001\n",
            "5\n"
          ]
        }
      ]
    }
  ]
}