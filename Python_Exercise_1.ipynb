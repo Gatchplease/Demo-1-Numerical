{
  "nbformat": 4,
  "nbformat_minor": 0,
  "metadata": {
    "colab": {
      "name": "Python Exercise 1.ipynb",
      "provenance": [],
      "authorship_tag": "ABX9TyMbzHSpe5zrr/G08TCi6EdM",
      "include_colab_link": true
    },
    "kernelspec": {
      "name": "python3",
      "display_name": "Python 3"
    },
    "language_info": {
      "name": "python"
    }
  },
  "cells": [
    {
      "cell_type": "markdown",
      "metadata": {
        "id": "view-in-github",
        "colab_type": "text"
      },
      "source": [
        "<a href=\"https://colab.research.google.com/github/Gatchplease/Numerical-Methods/blob/main/Python_Exercise_1.ipynb\" target=\"_parent\"><img src=\"https://colab.research.google.com/assets/colab-badge.svg\" alt=\"Open In Colab\"/></a>"
      ]
    },
    {
      "cell_type": "code",
      "metadata": {
        "colab": {
          "base_uri": "https://localhost:8080/"
        },
        "id": "7IxA0uctxgYN",
        "outputId": "2b8deb20-0529-4df4-ee84-71a931333480"
      },
      "source": [
        "firstname = input(\"Enter your first name: \")\n",
        "surname = input(\"Enter your surname: \")\n",
        "course = input(\"Enter the course: \")\n",
        "prelim = input(\"Enter prelim grade: \")\n",
        "midterm = input(\"Enter midterm grade: \")\n",
        "finals = input(\"Enter finals grade: \")\n",
        "\n",
        "semestral = ((int(prelim) * .30) + (int(midterm) * .30) + (int(finals) * .40));\n",
        "print(\"Hi Klasmeyt {} {} !, your computed semestral grade is: {:.2f} \".format(firstname, surname, semestral))"
      ],
      "execution_count": 1,
      "outputs": [
        {
          "output_type": "stream",
          "name": "stdout",
          "text": [
            "Enter your first name: Paulo\n",
            "Enter your surname: Gatchalian\n",
            "Enter the course: Cpe\n",
            "Enter prelim grade: 88\n",
            "Enter midterm grade: 89\n",
            "Enter finals grade: 77\n",
            "Hi Klasmeyt Paulo Gatchalian !, your computed semestral grade is: 83.90 \n"
          ]
        }
      ]
    }
  ]
}