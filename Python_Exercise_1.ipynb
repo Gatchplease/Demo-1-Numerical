{
  "nbformat": 4,
  "nbformat_minor": 0,
  "metadata": {
    "colab": {
      "name": "Python Exercise 1.ipynb",
      "provenance": [],
      "collapsed_sections": [],
      "authorship_tag": "ABX9TyPhZ9wxbic6v8wtlaHOFx6p",
      "include_colab_link": true
    },
    "kernelspec": {
      "name": "python3",
      "display_name": "Python 3"
    },
    "language_info": {
      "name": "python"
    }
  },
  "cells": [
    {
      "cell_type": "markdown",
      "metadata": {
        "id": "view-in-github",
        "colab_type": "text"
      },
      "source": [
        "<a href=\"https://colab.research.google.com/github/Gatchplease/Numerical-Methods/blob/main/Python_Exercise_1.ipynb\" target=\"_parent\"><img src=\"https://colab.research.google.com/assets/colab-badge.svg\" alt=\"Open In Colab\"/></a>"
      ]
    },
    {
      "cell_type": "code",
      "metadata": {
        "colab": {
          "base_uri": "https://localhost:8080/"
        },
        "id": "7IxA0uctxgYN",
        "outputId": "7cdcce9a-884e-4473-8e34-b609b40e10c1"
      },
      "source": [
        "firstname = input(\"Please enter your first name: \")\n",
        "surname = input(\"Please enter your surname: \")\n",
        "course = input(\"Please input your course here: \")\n",
        "prelim = input(\"Enter prelim grade: \")\n",
        "midterm = input(\"Enter midterm grade: \")\n",
        "finals = input(\"Enter finals grade: \")\n",
        "\n",
        "semestral = ((int(prelim) * .30) + \n",
        "                    (int(midterm) * .30) + \n",
        "                    (int(finals) * .40));\n",
        "print(\"{} {} , your computed semestral grade is: {:.2f} \".format(firstname, surname, semestral))"
      ],
      "execution_count": 8,
      "outputs": [
        {
          "output_type": "stream",
          "name": "stdout",
          "text": [
            "Please enter your first name: Paulo\n",
            "Please enter your surname: Gatchalian\n",
            "Please input your course here: Computer Engineering\n",
            "Enter prelim grade: 87\n",
            "Enter midterm grade: 69\n",
            "Enter finals grade: 74\n",
            "Paulo Gatchalian , your computed semestral grade is: 76.40 \n"
          ]
        }
      ]
    }
  ]
}