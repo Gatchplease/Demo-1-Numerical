{
  "nbformat": 4,
  "nbformat_minor": 0,
  "metadata": {
    "colab": {
      "name": "Python Exercise 2.ipynb",
      "provenance": [],
      "collapsed_sections": [],
      "authorship_tag": "ABX9TyNleYVIFLo64/GtWSQncoO9",
      "include_colab_link": true
    },
    "kernelspec": {
      "name": "python3",
      "display_name": "Python 3"
    },
    "language_info": {
      "name": "python"
    }
  },
  "cells": [
    {
      "cell_type": "markdown",
      "metadata": {
        "id": "view-in-github",
        "colab_type": "text"
      },
      "source": [
        "<a href=\"https://colab.research.google.com/github/Gatchplease/Numerical-Methods/blob/main/Python_Exercise_2.ipynb\" target=\"_parent\"><img src=\"https://colab.research.google.com/assets/colab-badge.svg\" alt=\"Open In Colab\"/></a>"
      ]
    },
    {
      "cell_type": "markdown",
      "metadata": {
        "id": "mSOun2xKebSk"
      },
      "source": [
        "##Matrix and Its Operations"
      ]
    },
    {
      "cell_type": "markdown",
      "metadata": {
        "id": "kQSj8HTgejWX"
      },
      "source": [
        "## Python Exercise 2"
      ]
    },
    {
      "cell_type": "code",
      "metadata": {
        "colab": {
          "base_uri": "https://localhost:8080/"
        },
        "id": "e1aXy23LbL63",
        "outputId": "01ded41e-726c-4d58-b34b-0708cf49679e"
      },
      "source": [
        "import numpy as np\n",
        "\n",
        "a = np.array([[-5,0,],[4,1,]]) \n",
        "b = np.array([[6,-3,],[2,3,]])\n",
        "\n",
        "print(a)\n",
        "print(b)\n",
        "print(a+b)\n",
        "print(b-a)\n",
        "print(a-b)"
      ],
      "execution_count": 6,
      "outputs": [
        {
          "output_type": "stream",
          "name": "stdout",
          "text": [
            "[[-5  0]\n",
            " [ 4  1]]\n",
            "[[ 6 -3]\n",
            " [ 2  3]]\n",
            "[[ 1 -3]\n",
            " [ 6  4]]\n",
            "[[11 -3]\n",
            " [-2  2]]\n",
            "[[-11   3]\n",
            " [  2  -2]]\n"
          ]
        }
      ]
    }
  ]
}